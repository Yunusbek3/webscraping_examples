{
 "cells": [
  {
   "cell_type": "code",
   "execution_count": 1,
   "id": "f4f7b955",
   "metadata": {},
   "outputs": [],
   "source": [
    "import requests\n",
    "from bs4 import BeautifulSoup"
   ]
  },
  {
   "cell_type": "code",
   "execution_count": 25,
   "id": "adf061a5",
   "metadata": {},
   "outputs": [],
   "source": [
    "url = f'https://books.toscrape.com/catalogue/page-{1}.html'"
   ]
  },
  {
   "cell_type": "code",
   "execution_count": 1,
   "id": "4c677998",
   "metadata": {},
   "outputs": [
    {
     "name": "stdout",
     "output_type": "stream",
     "text": [
      "✅ Data for page 1 saved to 'book_data.csv'\n",
      "✅ Data for page 2 saved to 'book_data.csv'\n",
      "✅ Data for page 3 saved to 'book_data.csv'\n",
      "✅ Data for page 4 saved to 'book_data.csv'\n",
      "✅ Data for page 5 saved to 'book_data.csv'\n",
      "✅ Data for page 6 saved to 'book_data.csv'\n",
      "✅ Data for page 7 saved to 'book_data.csv'\n",
      "✅ Data for page 8 saved to 'book_data.csv'\n",
      "✅ Data for page 9 saved to 'book_data.csv'\n",
      "✅ Data for page 10 saved to 'book_data.csv'\n",
      "✅ Data for page 11 saved to 'book_data.csv'\n",
      "✅ Data for page 12 saved to 'book_data.csv'\n",
      "✅ Data for page 13 saved to 'book_data.csv'\n",
      "✅ Data for page 14 saved to 'book_data.csv'\n",
      "✅ Data for page 15 saved to 'book_data.csv'\n",
      "✅ Data for page 16 saved to 'book_data.csv'\n",
      "✅ Data for page 17 saved to 'book_data.csv'\n",
      "✅ Data for page 18 saved to 'book_data.csv'\n",
      "✅ Data for page 19 saved to 'book_data.csv'\n",
      "✅ Data for page 20 saved to 'book_data.csv'\n",
      "✅ Data for page 21 saved to 'book_data.csv'\n",
      "✅ Data for page 22 saved to 'book_data.csv'\n",
      "✅ Data for page 23 saved to 'book_data.csv'\n",
      "✅ Data for page 24 saved to 'book_data.csv'\n",
      "✅ Data for page 25 saved to 'book_data.csv'\n",
      "✅ Data for page 26 saved to 'book_data.csv'\n",
      "✅ Data for page 27 saved to 'book_data.csv'\n",
      "✅ Data for page 28 saved to 'book_data.csv'\n",
      "✅ Data for page 29 saved to 'book_data.csv'\n",
      "✅ Data for page 30 saved to 'book_data.csv'\n",
      "✅ Data for page 31 saved to 'book_data.csv'\n",
      "✅ Data for page 32 saved to 'book_data.csv'\n",
      "✅ Data for page 33 saved to 'book_data.csv'\n",
      "✅ Data for page 34 saved to 'book_data.csv'\n",
      "✅ Data for page 35 saved to 'book_data.csv'\n",
      "✅ Data for page 36 saved to 'book_data.csv'\n",
      "✅ Data for page 37 saved to 'book_data.csv'\n",
      "✅ Data for page 38 saved to 'book_data.csv'\n",
      "✅ Data for page 39 saved to 'book_data.csv'\n",
      "✅ Data for page 40 saved to 'book_data.csv'\n",
      "✅ Data for page 41 saved to 'book_data.csv'\n",
      "✅ Data for page 42 saved to 'book_data.csv'\n",
      "✅ Data for page 43 saved to 'book_data.csv'\n",
      "✅ Data for page 44 saved to 'book_data.csv'\n",
      "✅ Data for page 45 saved to 'book_data.csv'\n",
      "✅ Data for page 46 saved to 'book_data.csv'\n",
      "✅ Data for page 47 saved to 'book_data.csv'\n",
      "✅ Data for page 48 saved to 'book_data.csv'\n",
      "✅ Data for page 49 saved to 'book_data.csv'\n",
      "✅ Data for page 50 saved to 'book_data.csv'\n"
     ]
    }
   ],
   "source": [
    "import requests\n",
    "from bs4 import BeautifulSoup\n",
    "import csv\n",
    "\n",
    "# Open the CSV file once before the loop, so it's not overwritten every time\n",
    "with open('book_data.csv', mode='w', newline='', encoding='utf-8') as file:\n",
    "    writer = csv.DictWriter(file, fieldnames=['title', 'price', 'rating', 'img_src'])\n",
    "    \n",
    "    # Writing header to the CSV file\n",
    "    writer.writeheader()\n",
    "\n",
    "    for i in range(1, 51):  # Scraping 50 pages\n",
    "        # Step 1: Setup URL and request\n",
    "        url = f'http://books.toscrape.com/catalogue/page-{i}.html'  # Replace with actual URL if needed\n",
    "        response = requests.get(url)\n",
    "        soup = BeautifulSoup(response.text, 'html.parser')\n",
    "\n",
    "        # Step 2: Collect book data\n",
    "        result = []\n",
    "\n",
    "        books = soup.find_all('li', class_='col-xs-6 col-sm-4 col-md-3 col-lg-3')\n",
    "\n",
    "        for book in books:\n",
    "            title = book.find('h3').find('a')['title']\n",
    "            price = book.find('p', class_='price_color').text.strip()\n",
    "\n",
    "            # Get star rating\n",
    "            rating_tag = book.find('p', class_='star-rating')\n",
    "            rating = rating_tag['class'][1] if rating_tag else 'No rating'\n",
    "\n",
    "            # Get image source\n",
    "            img_tag = book.find('div', class_='image_container').find('img')\n",
    "            img_src = img_tag['src'].replace('../', 'http://books.toscrape.com/')\n",
    "\n",
    "            # Append to result list\n",
    "            result.append({\n",
    "                'title': title,\n",
    "                'price': price,\n",
    "                'rating': rating,\n",
    "                'img_src': img_src\n",
    "            })\n",
    "\n",
    "        # Step 3: Write the collected data to CSV\n",
    "        writer.writerows(result)  # Append the results for this page to the CSV\n",
    "        print(f\"✅ Data for page {i} saved to 'book_data.csv'\")"
   ]
  },
  {
   "cell_type": "code",
   "execution_count": null,
   "id": "1ee6f469",
   "metadata": {},
   "outputs": [],
   "source": []
  },
  {
   "cell_type": "code",
   "execution_count": null,
   "id": "ef7a97f2",
   "metadata": {},
   "outputs": [],
   "source": []
  },
  {
   "cell_type": "code",
   "execution_count": null,
   "id": "5bf37ef2",
   "metadata": {},
   "outputs": [],
   "source": []
  }
 ],
 "metadata": {
  "kernelspec": {
   "display_name": "Python 3 (ipykernel)",
   "language": "python",
   "name": "python3"
  },
  "language_info": {
   "codemirror_mode": {
    "name": "ipython",
    "version": 3
   },
   "file_extension": ".py",
   "mimetype": "text/x-python",
   "name": "python",
   "nbconvert_exporter": "python",
   "pygments_lexer": "ipython3",
   "version": "3.11.2"
  }
 },
 "nbformat": 4,
 "nbformat_minor": 5
}
